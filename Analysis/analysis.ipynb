{
 "cells": [
  {
   "cell_type": "markdown",
   "metadata": {},
   "source": [
    "### Shape Quantification"
   ]
  },
  {
   "cell_type": "markdown",
   "metadata": {},
   "source": [
    "This Notebook has been used to make the shape quantification using the csv file exported from Fiji's MorhpolibJ plugin"
   ]
  },
  {
   "cell_type": "markdown",
   "metadata": {},
   "source": [
    "Path to the MorphlibJ csv file"
   ]
  },
  {
   "cell_type": "code",
   "execution_count": null,
   "metadata": {},
   "outputs": [],
   "source": [
    "filename = \"T0/T0-sizeOpen-lbl-killBorders-morpho\""
   ]
  },
  {
   "cell_type": "markdown",
   "metadata": {},
   "source": [
    "Imports"
   ]
  },
  {
   "cell_type": "code",
   "execution_count": null,
   "metadata": {},
   "outputs": [],
   "source": [
    "import numpy as np\n",
    "import pandas as pd\n",
    "import matplotlib.pyplot as plt\n"
   ]
  },
  {
   "cell_type": "markdown",
   "metadata": {},
   "source": [
    "Read the CSV file"
   ]
  },
  {
   "cell_type": "code",
   "execution_count": null,
   "metadata": {},
   "outputs": [],
   "source": [
    "df = pd.read_csv(filename+\".csv\",delimiter=\",\")"
   ]
  },
  {
   "cell_type": "markdown",
   "metadata": {},
   "source": [
    "### Compute Shape Descriptors (Elongation and Flatness) in 3D\n",
    "\n",
    "According to \"In situ 3D quantification of the evolution of creep cavity size, shape,\n",
    "and spatial orientation using synchrotron X-ray tomography\" Isaac et al - Materials Science and Engineering - 2007"
   ]
  },
  {
   "cell_type": "code",
   "execution_count": null,
   "metadata": {},
   "outputs": [],
   "source": [
    "a = df[\"Elli.R1\"]\n",
    "b = df[\"Elli.R2\"]\n",
    "c = df[\"Elli.R3\"]"
   ]
  },
  {
   "cell_type": "code",
   "execution_count": null,
   "metadata": {},
   "outputs": [],
   "source": [
    "elon=[]\n",
    "flat =[]\n",
    "for i in range(a.shape[0]):\n",
    "    L  = np.max([a[i],b[i],c[i]],axis=0)\n",
    "    T  = np.min([a[i],b[i],c[i]],axis=0)\n",
    "    B  = np.median([a[i],b[i],c[i]],axis=0)\n",
    "      \n",
    "    e = L / (0.5*(B+T))\n",
    "    f = B/T\n",
    "    elon.append(e)\n",
    "    flat.append(f)\n",
    "    "
   ]
  },
  {
   "cell_type": "markdown",
   "metadata": {},
   "source": [
    "Thresholds for Spheric, Rod, Elliptic shapes"
   ]
  },
  {
   "cell_type": "code",
   "execution_count": null,
   "metadata": {},
   "outputs": [],
   "source": [
    "spheric_indix = np.where((np.array(elon)<=1.3) & (np.array(flat)<=1.3))[0]\n",
    "elong_indix   = np.where(np.array(elon)>2.5)[0]\n",
    "elli_indix = np.array(list(set(list(range(len(elon))))-set(list(spheric_indix))-set(list(elong_indix))))"
   ]
  },
  {
   "cell_type": "markdown",
   "metadata": {},
   "source": [
    "Scatter with classes"
   ]
  },
  {
   "cell_type": "code",
   "execution_count": null,
   "metadata": {},
   "outputs": [],
   "source": [
    "\n",
    "fig = plt.figure(figsize=(5,5),dpi=300)\n",
    "plt.scatter(elon,flat,c=\"darkmagenta\",s=10)\n",
    "plt.scatter(np.array(elon)[spheric_indix],np.array(flat)[spheric_indix],c=\"#cccccc\", edgecolor=\"black\",s=10)\n",
    "plt.scatter(np.array(elon)[elong_indix],np.array(flat)[elong_indix],c='#FF9933', s=10)\n",
    "\n",
    "plt.xscale(\"log\", basex=2)\n",
    "plt.xlim([0.9,20])\n",
    "plt.ylim([0.8, 5.6])\n",
    "plt.ylabel('Flatness (B/T)')\n",
    "plt.xlabel('Elongation (2L/(B+T))')\n",
    "plt.legend(['Ellipse','Spheric','Rod'])\n",
    "\n",
    "plt.savefig(filename + '_elonflat.eps', format=\"eps\")\n",
    "plt.show()\n"
   ]
  },
  {
   "cell_type": "markdown",
   "metadata": {},
   "source": [
    "### Shape characterization and volume correlation"
   ]
  },
  {
   "cell_type": "markdown",
   "metadata": {},
   "source": [
    "Violin plot Volume versus Shape"
   ]
  },
  {
   "cell_type": "code",
   "execution_count": null,
   "metadata": {},
   "outputs": [],
   "source": [
    "def drawViolinPlot(axis, xlabel, xticks, xticklabels, ylabel, bandwidth, title):\n",
    "    axis.set_xlabel(xlabel);\n",
    "    axis.set_xticks(xticks);\n",
    "    axis.set_xticklabels(xticklabels);\n",
    "    axis.set_ylabel(ylabel);\n",
    "    axis.violinplot(sequences, showmeans=True, showmedians=True, bw_method=bandwidth);\n",
    "    axis.set_title(title);\n",
    "    \n",
    "sequences = [\n",
    "     np.log2(df[\"Volume\"][spheric_indix].values),\n",
    "     np.log2(df[\"Volume\"][elong_indix].values),\n",
    "     np.log2(df[\"Volume\"][elli_indix].values)\n",
    "\n",
    "]"
   ]
  },
  {
   "cell_type": "code",
   "execution_count": null,
   "metadata": {},
   "outputs": [],
   "source": [
    "fig = plt.figure(figsize=(6,3),dpi=300)\n",
    "plt.subplots_adjust(hspace=1);\n",
    "bandwidth = None;\n",
    "drawViolinPlot(fig.gca(),\n",
    "              \"\",\n",
    "              np.arange(len(sequences)+1),\n",
    "              ('', 'Sphere', 'Rod','Ellipse'),\n",
    "              \"log2 Volume $(µ^3)$\", bandwidth,\n",
    "              \"Shape vs Volume\");\n",
    "plt.show();"
   ]
  },
  {
   "cell_type": "markdown",
   "metadata": {},
   "source": [
    "Violin plot Ellipse Azimuth Versus Shape "
   ]
  },
  {
   "cell_type": "code",
   "execution_count": null,
   "metadata": {},
   "outputs": [],
   "source": [
    "       \n",
    "sequences = [\n",
    "    np.abs(df[\"Elli.Azim\"][spheric_indix].values),\n",
    "    np.abs(df[\"Elli.Azim\"][elong_indix].values),\n",
    "    np.abs(df[\"Elli.Azim\"][elli_indix].values)\n",
    "]\n",
    "\n",
    "fig = plt.figure(figsize=(6,3),dpi=300)\n",
    "plt.subplots_adjust(hspace=1);\n",
    "bandwidth = None;\n",
    "drawViolinPlot(fig.gca(),\n",
    "              \"\",\n",
    "              np.arange(len(sequences)+1),\n",
    "              ('', 'Sphere', 'Rod','Ellipse'),\n",
    "              \"Ellipse Azimuth (degrees)\", bandwidth,\n",
    "              \"Shape vs Ellipse Azimuth\");\n",
    "plt.show();"
   ]
  },
  {
   "cell_type": "markdown",
   "metadata": {},
   "source": [
    "Histograms"
   ]
  },
  {
   "cell_type": "code",
   "execution_count": null,
   "metadata": {},
   "outputs": [],
   "source": [
    "plt.figure(figsize=[10,8],dpi=300)\n",
    "bins = np.linspace(0, 90, 15)\n",
    "\n",
    "x1 = np.abs(df[\"Elli.Azim\"][spheric_indix].values)\n",
    "x2 = np.abs(df[\"Elli.Azim\"][elong_indix].values)\n",
    "x3 = np.abs(df[\"Elli.Azim\"][elli_indix].values)\n",
    "\n",
    "weights=[np.zeros_like(x2)+1./x2.shape[0], np.zeros_like(x3)+1./x3.shape[0], np.zeros_like(x1)+1./x1.shape[0]]\n",
    "colors = ['#FF9933', 'darkmagenta', '#cccccc']\n",
    "labels=['rod','ellipse','sphere']\n",
    "plt.hist([x2, x3, x1], bins, color=colors, edgecolor='black', label=labels, weights=weights)\n",
    "\n",
    "plt.xlabel('azimut angle (degrees)',fontsize=15)\n",
    "plt.ylabel('mitochondria distribution',fontsize=15)\n",
    "plt.ylim([0,0.72])\n",
    "plt.xticks(fontsize=15)\n",
    "plt.yticks(fontsize=15)\n",
    "plt.title('flight muscle',fontsize=15)\n",
    "plt.legend(loc='upper right')\n",
    "\n",
    "plt.savefig(filename+'_volazim_hist.eps', dpi=300, format=\"eps\")\n",
    "plt.show()\n"
   ]
  },
  {
   "cell_type": "code",
   "execution_count": null,
   "metadata": {},
   "outputs": [],
   "source": [
    "#display as log2 scale\n",
    "x1 = np.log2(df[\"Volume\"][spheric_indix])\n",
    "x2 = np.log2(df[\"Volume\"][elong_indix])\n",
    "x3 = np.log2(df[\"Volume\"][elli_indix])\n"
   ]
  },
  {
   "cell_type": "code",
   "execution_count": null,
   "metadata": {},
   "outputs": [],
   "source": [
    "plt.figure(figsize=[15,8], dpi=300)\n",
    "bins = np.linspace(-3, 6, 20)\n",
    "\n",
    "plt.hist([x3, x1, x2], bins, edgecolor='black')\n",
    "#plt.grid(axis='y', alpha=0.75)\n",
    "plt.xlabel('Volume log2 $(µm^3)$',fontsize=15)\n",
    "plt.ylabel('Mitochondria number',fontsize=15)\n",
    "plt.xticks(fontsize=15)\n",
    "plt.yticks(fontsize=15)\n",
    "plt.title('Leg Muscle',fontsize=15)\n",
    "#plt.legend(loc='upper left')\n",
    "\n",
    "plt.show()"
   ]
  },
  {
   "cell_type": "code",
   "execution_count": null,
   "metadata": {},
   "outputs": [],
   "source": [
    "plt.figure(figsize=[10,8],dpi=300)\n",
    "bins = np.linspace(-3, 6, 15)\n",
    "\n",
    "colors=['darkmagenta','#cccccc','#FF9933']\n",
    "labels=['ellipse','sphere','rod']\n",
    "plt.hist([x3, x1, x2], bins, color=colors, edgecolor='black', label=labels)\n",
    "\n",
    "plt.xlabel('Volume log2 $(µm^3)$',fontsize=15)\n",
    "plt.ylabel('Mitochondria number',fontsize=15)\n",
    "plt.xticks(fontsize=15)\n",
    "plt.yticks(fontsize=15)\n",
    "plt.title('flight muscle',fontsize=15)\n",
    "plt.legend(loc='upper left')\n",
    "\n",
    "plt.savefig(filename+\"_volume_ifm_histogram.eps\",format=\"eps\")\n",
    "plt.show()"
   ]
  },
  {
   "cell_type": "code",
   "execution_count": null,
   "metadata": {},
   "outputs": [],
   "source": [
    "plt.figure(figsize=[10,8])\n",
    "bins = np.linspace(-10, 10, 50)\n",
    "\n",
    "plt.hist(x3, bins, alpha = 0.3, color='darkmagenta', edgecolor='black', label='ellipse',weights=np.zeros_like(x3) + 1. / x3.shape[0] ) #alpha defines transparency\n",
    "plt.hist(x2, bins, alpha = 0.3, color='#FF9933', edgecolor='black', label='rod',weights=np.zeros_like(x2) + 1. / x2.shape[0])\n",
    "plt.hist(x1, bins, alpha = 0.3, color='white', edgecolor='black', label='spheric',weights=np.zeros_like(x1) + 1. / x1.shape[0])\n",
    "plt.grid(axis='y', alpha=0.75)\n",
    "plt.xlabel('Volume log2 $(µm^3)$',fontsize=15)\n",
    "plt.ylabel('Mitochondria distribution',fontsize=15)\n",
    "plt.xticks(fontsize=15)\n",
    "plt.yticks(fontsize=15)\n",
    "plt.title('Leg Muscle',fontsize=15)\n",
    "plt.legend(loc='upper left')\n",
    "\n",
    "plt.show()"
   ]
  },
  {
   "cell_type": "code",
   "execution_count": null,
   "metadata": {},
   "outputs": [],
   "source": [
    "def hist(x, ax=None, title=\"\", nbins=30):\n",
    "    cm = plt.cm.get_cmap(\"plasma\")\n",
    "    ax = ax or plt.gca()\n",
    "    n, bins, patches = ax.hist(x,color=\"r\",bins=range(0, 50 + nbins))\n",
    "    n = np.cumsum(n)\n",
    "\n",
    "    bin_centers = 0.5*(bins[:-1]+bins[1:])\n",
    "\n",
    "    norm = plt.Normalize(0,50)\n",
    "\n",
    "    for c, p in zip(bin_centers, patches):\n",
    "        plt.setp(p, \"facecolor\", cm(norm(c)))\n",
    "    plt.title(title)\n",
    "    #plt.yscale(\"log\")\n",
    "    plt.xlabel(\"Volume $(µ^3)$\")\n",
    "    plt.ylabel(\"#Mitochondria\")\n",
    "    plt.xlim([0,50])\n",
    "\n"
   ]
  },
  {
   "cell_type": "code",
   "execution_count": null,
   "metadata": {},
   "outputs": [],
   "source": [
    "plt.figure(figsize=(5,2),dpi=150)\n",
    "x1 = df[\"Volume\"][spheric_indix]\n",
    "hist(x1,ax=plt.gca(),title=\"Sphere\")\n",
    "plt.savefig(filename+\"_volume_sphere_histogram.tif\",format=\"png\")\n",
    "plt.show()\n",
    "\n",
    "plt.figure(figsize=(5,2),dpi=150)\n",
    "x2 = df[\"Volume\"][elong_indix]\n",
    "hist(x2,ax=plt.gca(),title=\"Rod\")\n",
    "plt.savefig(filename+\"_volume_rod_histogram.tif\",format=\"png\")\n",
    "plt.show()\n",
    "\n",
    "\n",
    "plt.figure(figsize=(5,2),dpi=150)\n",
    "x3 = df[\"Volume\"][elli_indix]\n",
    "hist(x3,ax=plt.gca(),title=\"Ellipse\")\n",
    "plt.savefig(filename+\"_volume_ellipse_histogram.tif\",format=\"png\")\n",
    "plt.show()\n",
    "\n",
    "\n"
   ]
  },
  {
   "cell_type": "markdown",
   "metadata": {},
   "source": [
    "Export CSV (contains shape classes)"
   ]
  },
  {
   "cell_type": "code",
   "execution_count": null,
   "metadata": {},
   "outputs": [],
   "source": [
    "shape = [\"\"]*df.shape[0]\n",
    "\n",
    "for i in spheric_indix:\n",
    "    shape[i]=\"spheric\"\n",
    "for i in elli_indix:\n",
    "    shape[i]=\"ellipse\"\n",
    "for i in elong_indix:\n",
    "    shape[i]=\"rod\"\n",
    "df[\"shape\"]=shape"
   ]
  },
  {
   "cell_type": "code",
   "execution_count": null,
   "metadata": {},
   "outputs": [],
   "source": [
    "df.to_csv('T0/SHAPE-T0-sizeOpen-lbl-killBorders-morpho.csv',sep=',')"
   ]
  }
 ],
 "metadata": {
  "kernelspec": {
   "display_name": "myofibril_kernel",
   "language": "python",
   "name": "myofibril_kernel"
  },
  "language_info": {
   "codemirror_mode": {
    "name": "ipython",
    "version": 3
   },
   "file_extension": ".py",
   "mimetype": "text/x-python",
   "name": "python",
   "nbconvert_exporter": "python",
   "pygments_lexer": "ipython3",
   "version": "3.6.10"
  }
 },
 "nbformat": 4,
 "nbformat_minor": 2
}
