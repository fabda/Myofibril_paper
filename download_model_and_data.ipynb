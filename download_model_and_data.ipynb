{
 "cells": [
  {
   "cell_type": "markdown",
   "metadata": {},
   "source": [
    "## Download models and data\n",
    " The __DATA__ available for download in this notebook are only a part of the full dataset which is available upon request to the corresponding author of the paper\n",
    "\n",
    " The __TRAINED MODEL WEIGHTS__ available for download in this notebook are fully reusable by citing the sources (paper, repository) .\n",
    "\n",
    "Run this script to download models and data"
   ]
  },
  {
   "cell_type": "code",
   "execution_count": null,
   "metadata": {},
   "outputs": [],
   "source": [
    "!wget -O data.zip https://amubox.univ-amu.fr/s/cwa5KfPLxGWXCm4/download -nv\n",
    "!wget -O models.zip https://amubox.univ-amu.fr/s/pBSFKic6qASHyJT/download\n",
    "    \n",
    "!mkdir Segmentation/data\n",
    "!mkdir Segmentation/models\n",
    "\n",
    "!unzip -qq data.zip -d Segmentation/data/\n",
    "!unzip -qq models.zip -d Segmentation/models/"
   ]
  }
 ],
 "metadata": {
  "kernelspec": {
   "display_name": "myofibril_kernel",
   "language": "python",
   "name": "myofibril_kernel"
  },
  "language_info": {
   "codemirror_mode": {
    "name": "ipython",
    "version": 3
   },
   "file_extension": ".py",
   "mimetype": "text/x-python",
   "name": "python",
   "nbconvert_exporter": "python",
   "pygments_lexer": "ipython3",
   "version": "3.6.10"
  }
 },
 "nbformat": 4,
 "nbformat_minor": 4
}
