{
 "cells": [
  {
   "cell_type": "markdown",
   "metadata": {},
   "source": [
    "### Download models and data\n",
    " The Data available for download in this notebook is only a part of the full dataset which is available upon request to thecorresponding author of the paper\n",
    "\n",
    " The trained model weights available for download in this notebook are fully reusable, redistributable for your own purposes at your own risks.\n",
    "\n",
    "Run this script to download models and data"
   ]
  },
  {
   "cell_type": "code",
   "execution_count": null,
   "metadata": {},
   "outputs": [],
   "source": [
    "!wget -O data.zip https://amubox.univ-amu.fr/s/cwa5KfPLxGWXCm4/download -nv\n",
    "!wget -O models.zip https://amubox.univ-amu.fr/s/pBSFKic6qASHyJT/download\n",
    "    \n",
    "!mkdir Segmentation/data\n",
    "!mkdir Segmentation/models\n",
    "\n",
    "!unzip -qq data.zip -d Segmentation/data/\n",
    "!unzip -qq models.zip -d Segmentation/models/"
   ]
  }
 ],
 "metadata": {
  "kernelspec": {
   "display_name": "myofibril_kernel",
   "language": "python",
   "name": "myofibril_kernel"
  },
  "language_info": {
   "codemirror_mode": {
    "name": "ipython",
    "version": 3
   },
   "file_extension": ".py",
   "mimetype": "text/x-python",
   "name": "python",
   "nbconvert_exporter": "python",
   "pygments_lexer": "ipython3",
   "version": "3.6.10"
  }
 },
 "nbformat": 4,
 "nbformat_minor": 4
}
