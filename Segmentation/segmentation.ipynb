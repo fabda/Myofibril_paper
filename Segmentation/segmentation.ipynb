{
 "cells": [
  {
   "cell_type": "markdown",
   "metadata": {},
   "source": [
    "### UNET-seResNet18 segmentation network : Segmentation"
   ]
  },
  {
   "cell_type": "markdown",
   "metadata": {},
   "source": [
    "This Notebook segment one full (1024x1024) image from T0 full image dataset using a trained model on T0 dataset.\n",
    "\n",
    "Feel free to change the *model_name* and *path_test_images* to process to another dataset into the cell below."
   ]
  },
  {
   "cell_type": "markdown",
   "metadata": {},
   "source": [
    "Path to the trained model and the dataset"
   ]
  },
  {
   "cell_type": "code",
   "execution_count": null,
   "metadata": {},
   "outputs": [],
   "source": [
    "# T0 segmentation model\n",
    "model_name = \"models/T0/jerome_128x128_seresnet18_e20_spe400.h5\"\n",
    "\n",
    "# T0 full image\n",
    "path_test_images = \"data/T0/fullimage/\""
   ]
  },
  {
   "cell_type": "code",
   "execution_count": null,
   "metadata": {},
   "outputs": [],
   "source": [
    "import os\n",
    "import numpy as np\n",
    "from PIL import Image\n",
    "import segmentation_models as sm\n",
    "from sklearn.model_selection import train_test_split\n",
    "from keras.preprocessing.image import ImageDataGenerator\n",
    "import keras.backend as K\n",
    "from keras.optimizers import Adam\n",
    "from keras.models import load_model\n",
    "import matplotlib.pyplot as plt\n",
    "from tifffile import imsave"
   ]
  },
  {
   "cell_type": "markdown",
   "metadata": {},
   "source": [
    "Useful functions"
   ]
  },
  {
   "cell_type": "code",
   "execution_count": null,
   "metadata": {},
   "outputs": [],
   "source": [
    "def load_images_from_directory(folder,resize,filextension):\n",
    "    '''\n",
    "    This function read images from a directory and store it into a Numpy array\n",
    "    \n",
    "    folder : path to the folder containing the images\n",
    "    resize : target size of the images stored into the Numpy array\n",
    "    filextension: image format. For the moment only 'tif' images are accepted\n",
    "    \n",
    "    Use : X = load_images_from_directory( foo/bar/, (128,128), 'tif')\n",
    "    \n",
    "    '''\n",
    "    images  = []\n",
    "    img_rows=resize[0]\n",
    "    img_cols=resize[1]\n",
    "    for filename in sorted(os.listdir(folder)):\n",
    "        curimg = os.path.join(folder, filename)\n",
    "        if curimg.endswith(filextension):\n",
    "            img = Image.open(curimg)\n",
    "            resize = img.resize((img_rows,img_cols), Image.NEAREST)\n",
    "            images.append(resize)\n",
    "    imgarray=list();\n",
    "    for i in range(len(images)):\n",
    "        tmp = np.array(images[i])\n",
    "        imgarray.append(tmp)\n",
    "    imgarray = np.asarray(imgarray).astype('float32')\n",
    "\n",
    "    if len(imgarray.shape)==3:\n",
    "        imgarray = np.expand_dims(imgarray,axis=3)\n",
    "\n",
    "    return imgarray"
   ]
  },
  {
   "cell_type": "markdown",
   "metadata": {},
   "source": [
    "Parameters"
   ]
  },
  {
   "cell_type": "code",
   "execution_count": null,
   "metadata": {},
   "outputs": [],
   "source": [
    "target_size=(128,128)\n",
    "\n",
    "BACKBONE = \"seresnet18\"\n",
    "\n",
    "bs = 32"
   ]
  },
  {
   "cell_type": "markdown",
   "metadata": {},
   "source": [
    "Load a trained segmentation model"
   ]
  },
  {
   "cell_type": "code",
   "execution_count": null,
   "metadata": {},
   "outputs": [],
   "source": [
    "K.clear_session()\n",
    "\n",
    "model = load_model(model_name,custom_objects={\n",
    "      \"dice_loss\":sm.losses.dice_loss,\n",
    "      \"iou_score\":sm.metrics.iou_score}\n",
    "      )\n"
   ]
  },
  {
   "cell_type": "markdown",
   "metadata": {},
   "source": [
    "Read, process and segment the full size image (1024x1024) by combining the model prediction on (128x128) patches"
   ]
  },
  {
   "cell_type": "code",
   "execution_count": null,
   "metadata": {},
   "outputs": [],
   "source": [
    "A = load_images_from_directory(path_test_images,(1024,1024),'tif')\n",
    "\n",
    "preprocess_input = sm.get_preprocessing(BACKBONE)\n",
    "\n",
    "\n",
    "R=np.zeros(A.shape)\n",
    "\n",
    "nx = A.shape[1]//target_size[0]\n",
    "ny = A.shape[2]//target_size[1]\n",
    "\n",
    "tx=target_size[0]\n",
    "ty=target_size[1]\n",
    "\n",
    "for i in range(nx):\n",
    "    for j in range(ny):\n",
    "        a = A[:,i*tx:i*tx+tx,j*ty:j*ty+ty,:]\n",
    "        X_test = np.concatenate((a,a,a),axis=3)\n",
    "        X_test = preprocess_input(X_test)\n",
    "        p = model.predict(X_test)\n",
    "        R[:,i*tx:i*tx+tx,j*ty:j*ty+ty,:]=p\n",
    "        "
   ]
  },
  {
   "cell_type": "markdown",
   "metadata": {},
   "source": [
    "Export the full segmented image"
   ]
  },
  {
   "cell_type": "code",
   "execution_count": null,
   "metadata": {},
   "outputs": [],
   "source": [
    "imsave(\"T0_full_segmented_image.tif\",(R>0.5)*255)"
   ]
  }
 ],
 "metadata": {
  "kernelspec": {
   "display_name": "tf1.15-keras2.2.4",
   "language": "python",
   "name": "tf1.15-keras2.2.4"
  },
  "language_info": {
   "codemirror_mode": {
    "name": "ipython",
    "version": 3
   },
   "file_extension": ".py",
   "mimetype": "text/x-python",
   "name": "python",
   "nbconvert_exporter": "python",
   "pygments_lexer": "ipython3",
   "version": "3.7.5"
  }
 },
 "nbformat": 4,
 "nbformat_minor": 2
}
